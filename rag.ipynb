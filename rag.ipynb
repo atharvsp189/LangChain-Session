{
 "cells": [
  {
   "cell_type": "code",
   "execution_count": 1,
   "metadata": {},
   "outputs": [
    {
     "name": "stdout",
     "output_type": "stream",
     "text": [
      "RAG in Langchain\n"
     ]
    }
   ],
   "source": [
    "print(\"RAG in Langchain\")"
   ]
  },
  {
   "cell_type": "code",
   "execution_count": 2,
   "metadata": {},
   "outputs": [],
   "source": [
    "# Load Credentials\n",
    "# secure way to load credentials\n",
    "import os\n",
    "from dotenv import load_dotenv\n",
    "load_dotenv()\n",
    "\n",
    "os.environ[\"GOOGLE_API_KEY\"] = os.getenv(\"GOOGLE_API_KEY\")\n",
    "os.environ[\"GROQ_API_KEY\"] = os.getenv(\"GROQ_API_KEY\")"
   ]
  },
  {
   "cell_type": "code",
   "execution_count": 3,
   "metadata": {},
   "outputs": [],
   "source": [
    "# setup LLM with groq\n",
    "from langchain_google_genai import ChatGoogleGenerativeAI\n",
    "llm = ChatGoogleGenerativeAI(\n",
    "    model=\"gemini-2.0-flash\",\n",
    "    temperature=0.2,\n",
    "    max_tokens=None,\n",
    "    timeout=None,\n",
    "    max_retries=2,\n",
    ")\n",
    "\n",
    "# from langchain_groq import ChatGroq\n",
    "\n",
    "# llm = ChatGroq(\n",
    "#     model=\"llama-3.3-70b-versatile\", \n",
    "#     temperature=0.2,\n",
    "#     max_tokens=None,\n",
    "#     timeout=None,\n",
    "#     max_retries=2,\n",
    "# )"
   ]
  },
  {
   "cell_type": "code",
   "execution_count": 7,
   "metadata": {},
   "outputs": [],
   "source": [
    "# data loaders -- used to load the data from a source\n",
    "# pdf loader loads data from pdf\n",
    "\n",
    "from langchain.document_loaders import PyMuPDFLoader\n",
    "from langchain.document_loaders import WebBaseLoader\n",
    "\n",
    "url = [\"https://supercell.com/en/parents/\"]\n",
    "\n",
    "# for u in url:\n",
    "\n",
    "web_loader = WebBaseLoader(url)\n",
    "documents = web_loader.load()\n",
    "\n",
    "# pdf_loader = PyMuPDFLoader(\"Data/SE-AI&DS-Syllabus.pdf\")  # Replace with your PDF file path\n",
    "# documents = pdf_loader.load()"
   ]
  },
  {
   "cell_type": "code",
   "execution_count": 8,
   "metadata": {},
   "outputs": [
    {
     "name": "stdout",
     "output_type": "stream",
     "text": [
      "[Document(metadata={'source': 'https://supercell.com/en/parents/', 'title': \"Parent's Guide × Supercell\", 'description': '', 'language': 'en'}, page_content='Parent\\'s Guide × Supercell\\nGamesmo.coSquad BustersBrawl StarsClash RoyaleBoom BeachClash of ClansHay DayCareersWhy You Might Love It HereOur OfficesJoining SupercellLiving in HelsinkiLiving in ShanghaiOpen PositionsCareer StoriesSparkSupportBe Safe & Play FairAbout UsNewsInvestmentsLevel UpIlkka\\'s Long TextsGames FirstGamesGamesmo.coSquad BustersBrawl StarsClash RoyaleBoom BeachClash of ClansHay DayCareersCareersWhy You Might Love It HereOur OfficesJoining SupercellLiving in HelsinkiLiving in ShanghaiOpen PositionsCareer StoriesSparkSupportSupportBe Safe & Play FairAbout UsAbout UsNewsInvestmentsLevel UpIlkka\\'s Long TextsGames FirstParent\\'s GuideBahasa IndonesiaBahasa MelayuDeutschEnglishEspañolFrançaisItalianoNederlandsPortuguêsSuomiTiếng ViệtTürkçeРусскийالعربيةفارسی한국어日本語简体中文繁體中文WHERE ARE SUPERCELL GAMES AVAILABLE?WHAT ARE THE AGE LIMITS FOR SUPERCELL GAMES?PRIVACY AND PROCESSING OF PERSONAL DATAHOW DOES CHAT WORK IN SUPERCELL GAMES?HOW TO REPORT AN ISSUE?ARE SUPERCELL GAMES FREE TO PLAY?CAN I MANAGE OR TURN OFF IN-APP PURCHASES?WHO PROCESSES IN-APP PURCHASES?ARE MY BANK DETAILS KEPT PRIVATE?I\\'VE MADE AN IN-GAME PURCHASE, BUT I HAVEN\\'T RECEIVED WHAT I PAID FOR. WHAT NOW?MY CHILD ACCIDENTALLY MADE AN IN-APP PURCHASE. CAN I GET A REFUND?WHERE DO I FIND MY PURCHASE HISTORY?I’VE SEEN ANOTHER SITE THAT OFFERS IN-GAME PRODUCTS FOR SUPERCELL GAMES. CAN I BUY FROM THEM?I’VE RECEIVED A BILL FOR A PURCHASE I DIDN’T MAKE. WHAT SHOULD I DO IF I SUSPECT FRAUDULENT ACTIVITY?HOW CAN I CONTACT SUPERCELL?SAFETY CHECKLISTONLINE SLANG GUIDEParent\\'s GuideIn an effort to offer parents the best available information on safety in games, we have partnered with Internet Matters. Go visit our\\xa0partner page\\xa0for a vast selection of informative resources on anything related to online safety.Since you’re here, most likely you, or someone you care about, have picked up one of our games in the name of fun. Thank you! We hope you enjoy them as much as we do making them.So; you probably have questions about keeping you, or your children safe while connected to our games through your mobile device. Things like age limits, in-app purchases, and privacy are all very valid concerns, and we’re here to make sure that you get the support you need.To make sure you can enjoy Supercell games in a safe and controlled environment, we stick to a clear set of principles that’ve served our gamers and us well:We respect our gamers, and we put all our might into making the most fun games for them to enjoy. We’ll never sacrifice game quality for any other short-term considerations.We want you to be in total control of your experience with Supercell games. That means that before you or your child download our games, you should be given upfront information about the game’s content. This means that it should be totally clear when you’re about to make any purchases within a game.If you or your child ever has any problems with our games, you should be able to quickly find out how to fix it. As well as providing guides like this, that means helping you to contact the right company for your issue, whether it’s to do with payments (which will usually be Google or Apple, who process purchases and refunds) or the game itself (which will usually be us).Read on as we try to cover what might be your most likely questions. If we’ve missed anything, email us at\\xa0parents@supercell.com. In your email, be sure to include any specific details that might be useful, like what happened and when, possible transaction ID receipts, relevant screenshots, etc.WHERE ARE SUPERCELL GAMES AVAILABLE?Our games are globally available for free on iOS or Android phones and tablets. To start playing one of our games, the game\\'s app has to be downloaded to the device via the Play Store (Android) or App Store (Apple). So far, we\\'ve launched five games globally:\\xa0Hay Day,\\xa0Clash of Clans,\\xa0Boom Beach,\\xa0Clash Royale\\xa0and\\xa0Brawl Stars.WHAT ARE THE AGE LIMITS FOR SUPERCELL GAMES?Our games do not have general age limits. However, users of our games should observe that, under our Terms of Service, users under the legal age of majority in the country of their residence require their legal guardian’s approval of our Terms of Service before registering their account.Please note:\\xa0When you download our games from e.g. Google Play or Apple\\'s App Store you will find published age recommendations in the apps description. However, these age or maturity classifications refer only to the content suitability (similar to movie ratings G, PG or PG-13 in the U.S., but related to gameplay, animations, etc.) according to the respective rating body responsible for such ratings. As these ratings are done independently by a third party without our contribution, they are not necessarily in line with our\\xa0Terms of Service.For more info on how these categories are defined, visit these support websites for\\xa0Apple\\xa0and\\xa0Google.PRIVACY AND PROCESSING OF PERSONAL DATAUSERNAMEOur players are asked to set up a username during the game\\'s tutorial. We recommend that our players choose a nickname not directly identifiable to the players real-life person to increase security and privacy. You are able to change the username through the in-game settings (open the game, tap on the gear-wheel icon and look for \"change name\").PAYMENT INFORMATIONWe do not store any credit card information related to in-game purchases as the payment transactions are completed through Apple\\'s App Store or Google Play (depending on your device) via the personal email address associated with that account.MARKETINGWhen contacting our support through the in-game chat, you\\'ll have the option to share your email address with us. We\\'ll always ask for your consent when sending direct marketing messages to your mobile device. We won\\'t sell or disclose your personal data to third parties for their own commercial purposes.Please find out more about our privacy and data processing practices from our\\xa0Privacy Policy.HOW DOES CHAT WORK IN SUPERCELL GAMES?All Supercell games have an in-game chat functionality. Many of our players enjoy interacting with one another through chat in our games, and we work hard to maintain a safe and secure environment for that.TEAM CHATIn all our games, players can talk to other players by joining a team (called Task Force, Clan, Band or Neighbourhood, depending on the game). Once you join a team, you have access to the team chat functionality and can talk to the members of your team. Teams can be closed, invite-only or open to everyone.GLOBAL CHATIn Clash of Clans, users have access to a public chat room with other players from around the world. This is called global chat or just \"global\".Although Supercell Chat only allows text messaging, it is still worth reminding young people about their own digital footprint. Once shared, messages can be copied, re-shared and posted anywhere online.SAFETY FEATURESWe display regular\\xa0warnings\\xa0against sharing personal information. If issues arise, our games contain easy to access tools for players to\\xa0report\\xa0any offensive, insulting or inappropriate behaviour to us. In global chat users have the option to\\xa0mute\\xa0players whose messages they do not want to see. This means that they will not see messages posted in chat by this user.All team chats also have a\\xa0profanity filter. It\\'s a good idea to advise your child that if they are chatting with someone they don\\'t know and are uncomfortable with, they should exit the team/game and speak to you about it. Users can leave a team whenever they want to. Furthermore a report functionality is directly accessible from within the chat. Read more about that in the next section.HOW TO REPORT AN ISSUE?If you or your child come across a user that is not following Supercell\\'s Safe and Fair Play Policy, report them to us in a few simple steps.Open the game\\'s chatFind the message / player you wish to reportTap the message and choose \"Report\"The reporter\\'s identity is not shared with the person being reported. Using the Report button does not automatically end up in a ban for the reported user. However, every report is manually reviewed by our moderators and taken seriously. Due to the amount of reports we receive, it may take up to 48h until a report is reviewed.If you need to report any concerns by email, reach us at\\xa0parents@supercell.com\\xa0- including specific details about the player in question (e.g. screenshots of the conversation and or player profile), to help us quickly understand and identify the issue.ARE SUPERCELL GAMES FREE TO PLAY?All Supercell games are free to download, offering optional \"in-app purchases\". In-app purchases are never required to play the game, but can be used to enhance certain gameplay elements. In-app purchases vary in price, ranging from $0.99 to $99.99 (without taxes) in U.S. app stores, for example. In-app purchases are paid for with real money, and are always clearly labeled as such. They are accessible \"in game\", meaning that the options to make a purchase are found within the game itself.CAN I MANAGE OR TURN OFF IN-APP PURCHASES?As long as no payment information (e.g. credit card information) is added to your child\\'s device, no purchases can be made. Should you decide to make purchases for your child and for this reason add your payment information to the device, remember to adjust password protection settings, or disable in-app purchases entirely afterwards to avoid unauthorised purchases.In-app purchase settings are different depending on what sort of device you are using. Find the instructions you need linked below:Instructions for Apple iOS devices (like iPhone or iPad)Instructions for Google Android devices (like Samsung Galaxy, OnePlus, HTC, Nexus, etc)WHO PROCESSES IN-APP PURCHASES?Supercell does not process payments for in-app purchases, or have access to credit card information. Payment transactions themselves are processed through the App Store or Google Play (depending on your device) via the personal email address associated with that account. Transaction receipts are emailed to you by Apple or Google after each purchase. Sometimes, purchases may be bundled together if you\\'ve bought multiple items, and it might take a few days for you to receive the receipt. These post-purchase processes are subject to change by Apple or Google. Supercell doesn\\'t offer any billing programs.ARE MY BANK DETAILS KEPT PRIVATE?We don\\'t process payments for in-app purchases, nor do we have access to any of your payment information. That\\'s because the payment transactions themselves are completed through Apple\\'s App Store or Google Play (depending on your device) via your personal email address associated with that account. Receipts for these transactions are emailed to you by Apple or Google after each purchase (though please note that any post-purchase processes are controlled by Apple or Google and are subject to change by them).I\\'VE MADE AN IN-GAME PURCHASE, BUT I HAVEN\\'T RECEIVED WHAT I PAID FOR. WHAT NOW?Usually transactions are instant. However in rare cases it can take up to 48 hours for transactions to process through Apple or Google and then make it into your game. It is also recommended to restart the app by fully closing and re-opening it. Sometimes a fresh connection to the servers can trigger the in-app currency to appear.If it\\'s been 48 hours and still nothing has happened, please contact Apple or\\xa0Google directly for more information.MY CHILD ACCIDENTALLY MADE AN IN-APP PURCHASE. CAN I GET A REFUND?As with most downloadable software products, items bought in our games (in-app purchases) are non-refundable. In rare cases, exceptions can be applied.If the purchase was made on an Apple (iOS) device:For purchases made on an iOS device, Supercell is not able to handle refunds directly. Please visit\\xa0Apple support\\xa0and select the \"Contact iTunes store support\" link, then \"Purchases, billing and redemption\" and choose the option that fits you best.If the purchase was made on a Google (Android) device:Please send an email to\\xa0parents@supercell.com\\xa0or contact us directly through in-game support by going to Settings > Help & Support and then tap \"Contact Us\" in the upper right hand corner. In your message please state the name of the game the purchase was made in and add the receipt of the purchase. The transaction ID (looks similar to this - GPA.1234-1234-1234-12345) at the bottom of the document must be visible. Receipts for transactions have been emailed to you by Google after each purchase.Please note:\\xa0Receipts for any transactions are emailed to you by Apple or Google soon after each purchase. However, purchases may be bundled together if you\\'ve bought multiple items and might take longer. These post-purchase processes are subject to change by Apple or Google. Supercell doesn\\'t offer any billing programs.WHERE DO I FIND MY PURCHASE HISTORY?To review your purchase history, please check the guides below:AndroidEnter payments.google.com, then log in with your desired Google accountSelect \"Transactions\" to display your Play Store order history.Choose an individual entry to view its corresponding receipt.iOSOpen iTunes on your computer.Select your username (this should be your e-mail address), and choose \"Account\"Scroll down to \"Purchase History\", and choose \"See All\"I’VE SEEN ANOTHER SITE THAT OFFERS IN-GAME PRODUCTS FOR SUPERCELL GAMES. CAN I BUY FROM THEM?If you want to make an in-app purchase,\\xa0the only way\\xa0is to buy through the game itself on your mobile device. Beware of any third party sites that promise you enhancements for our games (like “free gem” websites, etc). These sites may collect your personal information, money, or both, and often never deliver the promised in-game products. Selling, redeeming or trading virtual in-game currency is otherwise not allowed by our\\xa0Terms of Service.IMPORTANT:\\xa0As with anything related to the Internet, always keep your passwords to yourself and consider changing them on a regular basis. Supercell will never ask you for your game account password(s) or credit card information.I’VE RECEIVED A BILL FOR A PURCHASE I DIDN’T MAKE. WHAT SHOULD I DO IF I SUSPECT FRAUDULENT ACTIVITY?If neither you nor anyone else who has access to your device have played one of our games, but you have been billed for a purchase(s) made within our games, it is likely that your Google or Apple account was compromised. If so, immediately contact Apple or Google by following the instructions below:For Apple (iOS) devices:Visit\\xa0Apple support\\xa0and select the \"Contact iTunes store support\" link, then \"Purchases, billing and redemption\" and choose the option that fits you best.For Google (Android) devices:Please send an email to\\xa0parents@supercell.com\\xa0or contact us directly through in-game support by going to Settings > Help & Support and then tap \"Contact Us\" in the upper right hand corner. In your message please state the name of the game the purchase was made in and add the receipt of the purchase. The transaction ID (looks similar to this - GPA.1234-1234-1234-12345) at the bottom of the document must be visible. Receipts for transactions have been emailed to you by Google after each purchase..If you’ve already contacted Apple or Google about suspected fraudulent activity and they’ve sent you to us, please contact us at\\xa0transactions@supercell.com. Be sure to include specific details like what happened and when, transaction ID receipts, relevant screenshots, etc.HOW CAN I CONTACT SUPERCELL?Like we said, we’re here to help! If you have any more questions, there are several ways you can contact us!CAN I CALL SUPERCELL?We don\\'t offer support via phone but we are easy to reach either directly from within the game or via email. Our well trained support staff is happy to answer your questions 24/7 in the following languages: Arabic, Chinese (Simplified & Traditional), English, Finnish, French, German, Indonesian, Italian, Japanese, Korean, Malay, Portuguese, Russian, Spanish and Turkish.HOW TO CONTACT US DIRECTLY FROM WITHIN THE GAMEOpen the gameOpen settings (tap on the gear-wheel icon)Tap on \"Help & Support\"Tap on \"Contact Us\" in the upper right cornerOR in case that option is not givenOpen any given FAQScroll downTap \"No\" where it says \"Was this helpful\"Tap \"Contact Us\"CONTACT VIA EMAILYou can send us an email at\\xa0parents@supercell.com. In your email, be sure to include any specific details that might be useful, like what happened and when, possible transaction ID receipts, relevant screenshots, etc.WHERE IS SUPERCELL LOCATED?Supercell\\'s Headquarter is in Helsinki, Finland. Additionally we have offices in San Francisco, Shanghai and Seoul.SAFETY CHECKLISTSupercell\\'s games are made to be enjoyed. They can be a great way to destress and take a break. If you feel as though your child isn\\'t having much fun with the games, then don\\'t be afraid to speak to them about it. Below is a list of things that are worth discussing with your child.HAVE A CONVERSATION WITH YOUR CHILD ABOUT GAMINGTalk about your child\\'s gaming habits. Encourage them to speak to you about anything that upsets them.FAMILIARIZE YOURSELF WITH THE GAME AND ITS REPORTING OPTIONSWe recommend showing interest and even playing the game with your child at regular intervals. Helpful hint: go through in-game tutorials and game guides together in order to make sure you both understand how the game works. In particular, you and your child should know how to use the mute and report tool.CHECK YOUR CHILD\\'S USERNAMEMake sure your child\\'s in-game nickname is not their real name. You might also want to check if their nickname is inappropriate.CHECK IN-APP PURCHASE SETTINGSGet familiar with ways to restrict or turn off in-app purchases on your child\\'s device.TALK WITH YOUR CHILD ABOUT THE RISKS OF SHARING INFORMATION ONLINECarefully discuss the dangers of talking to strangers online. They should develop a healthy skepticism of who they\\'re talking to and about what. Key things they should NOT share include: gender, age, location, ethnicity, religion, sexuality, height, hobbiesREPORT / GET HELPIf all things fail and your child runs into in-game problems, report it so we can help.ONLINE SLANG GUIDEA unique new language has emerged online, especially in games. Below are some commonly used terms, in addition to what they mean. This might come in handy when having a conversation with your child about gaming.WordMeaningNoob, n00bSomeone who is new to the game, or acts as though they are new to the gameScrubAn unskilled playerTrollPeople who taunt, tease or bait other players for a reactionSpammingWhen someone repeatedly sends messages or requestsBM\\'ingShort for \"Bad Mannering\" - usually involves taunting or poor sportsmanshipDoxxingBroadcasting someone\\'s personal information against their willSWATingSending police to someone\\'s home addresspwnd / pwn3dSynonym for \"Owned\" - term is used when authoritatively outplaying someone elseGrieferSimilar to troll, someone who ruins a players battle or undermines their effort in the game, causing griefGroomingBefriending and establishing an emotional connection with a child to lower the child\\'s inhibitions with the object of sexual abuseOther Online Slang Guide Thanks for your help in making our games as safe and as fun as possible!-\\xa0Your friends at SupercellFollow us onDownload our games fromTerms of ServicePrivacy PolicyParent\\'s GuideSafe and Fair Play PolicyOther Legal DocsMedia CenterOur DomainsManage CookiesSupercell OyJätkäsaarenlaituri 100180 HelsinkiFinland')]\n"
     ]
    }
   ],
   "source": [
    "print(documents)"
   ]
  },
  {
   "cell_type": "code",
   "execution_count": 9,
   "metadata": {},
   "outputs": [],
   "source": [
    "from langchain.text_splitter import RecursiveCharacterTextSplitter\n",
    "\n",
    "# Split the text into smaller chunks\n",
    "text_splitter = RecursiveCharacterTextSplitter(chunk_size=500, chunk_overlap=100)\n",
    "docs = text_splitter.split_documents(documents)"
   ]
  },
  {
   "cell_type": "code",
   "execution_count": 10,
   "metadata": {},
   "outputs": [
    {
     "data": {
      "text/plain": [
       "GoogleGenerativeAIEmbeddings(client=<google.ai.generativelanguage_v1beta.services.generative_service.client.GenerativeServiceClient object at 0x00000242C3308620>, model='models/text-embedding-004', task_type=None, google_api_key=SecretStr('**********'), credentials=None, client_options=None, transport=None, request_options=None)"
      ]
     },
     "execution_count": 10,
     "metadata": {},
     "output_type": "execute_result"
    }
   ],
   "source": [
    "\n",
    "from langchain_google_genai import GoogleGenerativeAIEmbeddings\n",
    "embeddings= GoogleGenerativeAIEmbeddings(model=\"models/text-embedding-004\")\n",
    "embeddings"
   ]
  },
  {
   "cell_type": "code",
   "execution_count": 11,
   "metadata": {},
   "outputs": [
    {
     "data": {
      "text/plain": [
       "<langchain_community.vectorstores.faiss.FAISS at 0x242c35ff080>"
      ]
     },
     "execution_count": 11,
     "metadata": {},
     "output_type": "execute_result"
    }
   ],
   "source": [
    "\n",
    "from langchain_community.vectorstores import FAISS\n",
    "\n",
    "vector_store = FAISS.from_documents(docs, embeddings)\n",
    "vector_store"
   ]
  },
  {
   "cell_type": "code",
   "execution_count": 26,
   "metadata": {},
   "outputs": [
    {
     "data": {
      "text/plain": [
       "[Document(id='bd876298-d3c2-4e61-9058-1af6ef5db4d5', metadata={'source': 'https://supercell.com/en/parents/', 'title': \"Parent's Guide × Supercell\", 'description': '', 'language': 'en'}, page_content='(like iPhone or iPad)Instructions for Google Android devices (like Samsung Galaxy, OnePlus, HTC, Nexus, etc)WHO PROCESSES IN-APP PURCHASES?Supercell does not process payments for in-app purchases, or have access to credit card information. Payment transactions themselves are processed through the App Store or Google Play (depending on your device) via the personal email address associated with that account. Transaction receipts are emailed to you by Apple or Google after each purchase.'),\n",
       " Document(id='77bb1885-cb2b-4b6f-8271-5705bdd505bf', metadata={'source': 'https://supercell.com/en/parents/', 'title': \"Parent's Guide × Supercell\", 'description': '', 'language': 'en'}, page_content=\"process payments for in-app purchases, nor do we have access to any of your payment information. That's because the payment transactions themselves are completed through Apple's App Store or Google Play (depending on your device) via your personal email address associated with that account. Receipts for these transactions are emailed to you by Apple or Google after each purchase (though please note that any post-purchase processes are controlled by Apple or Google and are subject to change by\"),\n",
       " Document(id='11d58602-d6b6-405a-831e-3b159663b091', metadata={'source': 'https://supercell.com/en/parents/', 'title': \"Parent's Guide × Supercell\", 'description': '', 'language': 'en'}, page_content=\"with that account. Transaction receipts are emailed to you by Apple or Google after each purchase. Sometimes, purchases may be bundled together if you've bought multiple items, and it might take a few days for you to receive the receipt. These post-purchase processes are subject to change by Apple or Google. Supercell doesn't offer any billing programs.ARE MY BANK DETAILS KEPT PRIVATE?We don't process payments for in-app purchases, nor do we have access to any of your payment information.\"),\n",
       " Document(id='10a7f2c5-42ee-4234-9cde-be46a1e14587', metadata={'source': 'https://supercell.com/en/parents/', 'title': \"Parent's Guide × Supercell\", 'description': '', 'language': 'en'}, page_content='U.S. app stores, for example. In-app purchases are paid for with real money, and are always clearly labeled as such. They are accessible \"in game\", meaning that the options to make a purchase are found within the game itself.CAN I MANAGE OR TURN OFF IN-APP PURCHASES?As long as no payment information (e.g. credit card information) is added to your child\\'s device, no purchases can be made. Should you decide to make purchases for your child and for this reason add your payment information to the')]"
      ]
     },
     "execution_count": 26,
     "metadata": {},
     "output_type": "execute_result"
    }
   ],
   "source": [
    "# Similarity Search\n",
    "# searches in vector db and find the nodes with highest similarity scores\n",
    "\n",
    "query = \"who process in  app purchases?\"\n",
    "\n",
    "result = vector_store.similarity_search(query)\n",
    "result"
   ]
  },
  {
   "cell_type": "code",
   "execution_count": null,
   "metadata": {},
   "outputs": [],
   "source": [
    "# Multi Query Retriever\n",
    "# Retrieves the most similar node from vector db and answer the question with the help of an Initiallized LLm\n",
    "\n",
    "from langchain.retrievers.multi_query import MultiQueryRetriever\n",
    "\n",
    "retriever_from_llm = MultiQueryRetriever.from_llm(\n",
    "    retriever=vector_store.as_retriever(), llm=llm\n",
    ")"
   ]
  },
  {
   "cell_type": "code",
   "execution_count": null,
   "metadata": {},
   "outputs": [],
   "source": [
    "# Make a chain to answer question and answer\n",
    "from langchain.chains import RetrievalQA\n",
    "\n",
    "# Create RAG Pipeline (Retrieval-Augmented Generation)\n",
    "qa_chain = RetrievalQA.from_chain_type(\n",
    "    llm=llm, \n",
    "    retriever=retriever_from_llm, \n",
    "    return_source_documents=True\n",
    ")"
   ]
  },
  {
   "cell_type": "code",
   "execution_count": 23,
   "metadata": {},
   "outputs": [
    {
     "name": "stdout",
     "output_type": "stream",
     "text": [
      "Result\n",
      "--------------------\n",
      "Payment transactions for in-app purchases are processed through the App Store or Google Play, depending on your device.\n",
      "Source\n",
      "--------------------\n",
      "[Document(id='bd876298-d3c2-4e61-9058-1af6ef5db4d5', metadata={'source': 'https://supercell.com/en/parents/', 'title': \"Parent's Guide × Supercell\", 'description': '', 'language': 'en'}, page_content='(like iPhone or iPad)Instructions for Google Android devices (like Samsung Galaxy, OnePlus, HTC, Nexus, etc)WHO PROCESSES IN-APP PURCHASES?Supercell does not process payments for in-app purchases, or have access to credit card information. Payment transactions themselves are processed through the App Store or Google Play (depending on your device) via the personal email address associated with that account. Transaction receipts are emailed to you by Apple or Google after each purchase.'), Document(id='77bb1885-cb2b-4b6f-8271-5705bdd505bf', metadata={'source': 'https://supercell.com/en/parents/', 'title': \"Parent's Guide × Supercell\", 'description': '', 'language': 'en'}, page_content=\"process payments for in-app purchases, nor do we have access to any of your payment information. That's because the payment transactions themselves are completed through Apple's App Store or Google Play (depending on your device) via your personal email address associated with that account. Receipts for these transactions are emailed to you by Apple or Google after each purchase (though please note that any post-purchase processes are controlled by Apple or Google and are subject to change by\"), Document(id='11d58602-d6b6-405a-831e-3b159663b091', metadata={'source': 'https://supercell.com/en/parents/', 'title': \"Parent's Guide × Supercell\", 'description': '', 'language': 'en'}, page_content=\"with that account. Transaction receipts are emailed to you by Apple or Google after each purchase. Sometimes, purchases may be bundled together if you've bought multiple items, and it might take a few days for you to receive the receipt. These post-purchase processes are subject to change by Apple or Google. Supercell doesn't offer any billing programs.ARE MY BANK DETAILS KEPT PRIVATE?We don't process payments for in-app purchases, nor do we have access to any of your payment information.\"), Document(id='10a7f2c5-42ee-4234-9cde-be46a1e14587', metadata={'source': 'https://supercell.com/en/parents/', 'title': \"Parent's Guide × Supercell\", 'description': '', 'language': 'en'}, page_content='U.S. app stores, for example. In-app purchases are paid for with real money, and are always clearly labeled as such. They are accessible \"in game\", meaning that the options to make a purchase are found within the game itself.CAN I MANAGE OR TURN OFF IN-APP PURCHASES?As long as no payment information (e.g. credit card information) is added to your child\\'s device, no purchases can be made. Should you decide to make purchases for your child and for this reason add your payment information to the'), Document(id='e4643b22-d775-4faa-b81b-957a8c618f3b', metadata={'source': 'https://supercell.com/en/parents/', 'title': \"Parent's Guide × Supercell\", 'description': '', 'language': 'en'}, page_content=\"document must be visible. Receipts for transactions have been emailed to you by Google after each purchase.Please note:\\xa0Receipts for any transactions are emailed to you by Apple or Google soon after each purchase. However, purchases may be bundled together if you've bought multiple items and might take longer. These post-purchase processes are subject to change by Apple or Google. Supercell doesn't offer any billing programs.WHERE DO I FIND MY PURCHASE HISTORY?To review your purchase history,\")]\n"
     ]
    }
   ],
   "source": [
    "query = \"who process in  app purchases?\"\n",
    "response = qa_chain({\"query\": query})\n",
    "\n",
    "print(\"Result\")\n",
    "print(\"-\"*20)\n",
    "print(response[\"result\"])\n",
    "\n",
    "print(\"Source\")\n",
    "print(\"-\"*20)\n",
    "print(response[\"source_documents\"])"
   ]
  },
  {
   "cell_type": "code",
   "execution_count": 24,
   "metadata": {},
   "outputs": [
    {
     "name": "stdout",
     "output_type": "stream",
     "text": [
      "Result\n",
      "--------------------\n",
      "Supercell does not process payments for in-app purchases, or have access to your payment information. The payment transactions themselves are completed through Apple's App Store or Google Play (depending on your device) via your personal email address associated with that account.\n",
      "Source\n",
      "--------------------\n",
      "[Document(id='11d58602-d6b6-405a-831e-3b159663b091', metadata={'source': 'https://supercell.com/en/parents/', 'title': \"Parent's Guide × Supercell\", 'description': '', 'language': 'en'}, page_content=\"with that account. Transaction receipts are emailed to you by Apple or Google after each purchase. Sometimes, purchases may be bundled together if you've bought multiple items, and it might take a few days for you to receive the receipt. These post-purchase processes are subject to change by Apple or Google. Supercell doesn't offer any billing programs.ARE MY BANK DETAILS KEPT PRIVATE?We don't process payments for in-app purchases, nor do we have access to any of your payment information.\"), Document(id='77bb1885-cb2b-4b6f-8271-5705bdd505bf', metadata={'source': 'https://supercell.com/en/parents/', 'title': \"Parent's Guide × Supercell\", 'description': '', 'language': 'en'}, page_content=\"process payments for in-app purchases, nor do we have access to any of your payment information. That's because the payment transactions themselves are completed through Apple's App Store or Google Play (depending on your device) via your personal email address associated with that account. Receipts for these transactions are emailed to you by Apple or Google after each purchase (though please note that any post-purchase processes are controlled by Apple or Google and are subject to change by\"), Document(id='bd876298-d3c2-4e61-9058-1af6ef5db4d5', metadata={'source': 'https://supercell.com/en/parents/', 'title': \"Parent's Guide × Supercell\", 'description': '', 'language': 'en'}, page_content='(like iPhone or iPad)Instructions for Google Android devices (like Samsung Galaxy, OnePlus, HTC, Nexus, etc)WHO PROCESSES IN-APP PURCHASES?Supercell does not process payments for in-app purchases, or have access to credit card information. Payment transactions themselves are processed through the App Store or Google Play (depending on your device) via the personal email address associated with that account. Transaction receipts are emailed to you by Apple or Google after each purchase.'), Document(id='3e626117-2041-4583-bb51-acc017741734', metadata={'source': 'https://supercell.com/en/parents/', 'title': \"Parent's Guide × Supercell\", 'description': '', 'language': 'en'}, page_content=\"ARE THE AGE LIMITS FOR SUPERCELL GAMES?PRIVACY AND PROCESSING OF PERSONAL DATAHOW DOES CHAT WORK IN SUPERCELL GAMES?HOW TO REPORT AN ISSUE?ARE SUPERCELL GAMES FREE TO PLAY?CAN I MANAGE OR TURN OFF IN-APP PURCHASES?WHO PROCESSES IN-APP PURCHASES?ARE MY BANK DETAILS KEPT PRIVATE?I'VE MADE AN IN-GAME PURCHASE, BUT I HAVEN'T RECEIVED WHAT I PAID FOR. WHAT NOW?MY CHILD ACCIDENTALLY MADE AN IN-APP PURCHASE. CAN I GET A REFUND?WHERE DO I FIND MY PURCHASE HISTORY?I’VE SEEN ANOTHER SITE THAT OFFERS\"), Document(id='d97b9e1a-6d42-4eac-82b4-ed8fbd395d89', metadata={'source': 'https://supercell.com/en/parents/', 'title': \"Parent's Guide × Supercell\", 'description': '', 'language': 'en'}, page_content='categories are defined, visit these support websites for\\xa0Apple\\xa0and\\xa0Google.PRIVACY AND PROCESSING OF PERSONAL DATAUSERNAMEOur players are asked to set up a username during the game\\'s tutorial. We recommend that our players choose a nickname not directly identifiable to the players real-life person to increase security and privacy. You are able to change the username through the in-game settings (open the game, tap on the gear-wheel icon and look for \"change name\").PAYMENT INFORMATIONWe do not'), Document(id='d36ea82a-a4a4-4d76-bc65-c72138f68cf2', metadata={'source': 'https://supercell.com/en/parents/', 'title': \"Parent's Guide × Supercell\", 'description': '', 'language': 'en'}, page_content='(open the game, tap on the gear-wheel icon and look for \"change name\").PAYMENT INFORMATIONWe do not store any credit card information related to in-game purchases as the payment transactions are completed through Apple\\'s App Store or Google Play (depending on your device) via the personal email address associated with that account.MARKETINGWhen contacting our support through the in-game chat, you\\'ll have the option to share your email address with us. We\\'ll always ask for your consent when')]\n"
     ]
    }
   ],
   "source": [
    "query = \"Are my bank details private?\"\n",
    "response = qa_chain({\"query\": query})\n",
    "\n",
    "print(\"Result\")\n",
    "print(\"-\"*20)\n",
    "print(response[\"result\"])\n",
    "\n",
    "print(\"Source\")\n",
    "print(\"-\"*20)\n",
    "print(response[\"source_documents\"])"
   ]
  },
  {
   "cell_type": "code",
   "execution_count": 25,
   "metadata": {},
   "outputs": [
    {
     "name": "stdout",
     "output_type": "stream",
     "text": [
      "Result\n",
      "--------------------\n",
      "As with most downloadable software products, items bought in our games (in-app purchases) are non-refundable. In rare cases, exceptions can be applied.\n",
      "\n",
      "If the purchase was made on an Apple (iOS) device: For purchases made on an iOS device, Supercell is not able to handle refunds directly. Please visit Apple support and select the \"Contact iTunes store support\" link, then \"Purchases, billing and redemption\" and choose the option that fits you best.\n",
      "\n",
      "If the purchase was made on a Google (Android) device: Please send an email to parents@supercell.com or contact us directly through in-game support by going to Settings > Help & Support and then tap \"Contact Us\" in the upper right-hand corner. In your message please state the name of the game the purchase was made in and add the receipt of the purchase. The transaction ID (looks similar to this - GPA.1234-1234-1234-12345) at the bottom of the document must be visible. Receipts for transactions have been emailed to you by Google after each purchase.\n",
      "Source\n",
      "--------------------\n",
      "[Document(id='0023440f-dce0-4283-92f3-9390dd80ad80', metadata={'source': 'https://supercell.com/en/parents/', 'title': \"Parent's Guide × Supercell\", 'description': '', 'language': 'en'}, page_content=\"fully closing and re-opening it. Sometimes a fresh connection to the servers can trigger the in-app currency to appear.If it's been 48 hours and still nothing has happened, please contact Apple or\\xa0Google directly for more information.MY CHILD ACCIDENTALLY MADE AN IN-APP PURCHASE. CAN I GET A REFUND?As with most downloadable software products, items bought in our games (in-app purchases) are non-refundable. In rare cases, exceptions can be applied.If the purchase was made on an Apple (iOS)\"), Document(id='53607e3f-dc5f-4a31-a8fc-5315c7bf85a9', metadata={'source': 'https://supercell.com/en/parents/', 'title': \"Parent's Guide × Supercell\", 'description': '', 'language': 'en'}, page_content='clear when you’re about to make any purchases within a game.If you or your child ever has any problems with our games, you should be able to quickly find out how to fix it. As well as providing guides like this, that means helping you to contact the right company for your issue, whether it’s to do with payments (which will usually be Google or Apple, who process purchases and refunds) or the game itself (which will usually be us).Read on as we try to cover what might be your most likely'), Document(id='10a7f2c5-42ee-4234-9cde-be46a1e14587', metadata={'source': 'https://supercell.com/en/parents/', 'title': \"Parent's Guide × Supercell\", 'description': '', 'language': 'en'}, page_content='U.S. app stores, for example. In-app purchases are paid for with real money, and are always clearly labeled as such. They are accessible \"in game\", meaning that the options to make a purchase are found within the game itself.CAN I MANAGE OR TURN OFF IN-APP PURCHASES?As long as no payment information (e.g. credit card information) is added to your child\\'s device, no purchases can be made. Should you decide to make purchases for your child and for this reason add your payment information to the'), Document(id='ad2d173b-9186-44e5-bf14-189ae8c8f1ee', metadata={'source': 'https://supercell.com/en/parents/', 'title': \"Parent's Guide × Supercell\", 'description': '', 'language': 'en'}, page_content='non-refundable. In rare cases, exceptions can be applied.If the purchase was made on an Apple (iOS) device:For purchases made on an iOS device, Supercell is not able to handle refunds directly. Please visit\\xa0Apple support\\xa0and select the \"Contact iTunes store support\" link, then \"Purchases, billing and redemption\" and choose the option that fits you best.If the purchase was made on a Google (Android) device:Please send an email to\\xa0parents@supercell.com\\xa0or contact us directly through in-game'), Document(id='ad78a814-c46b-428b-8a96-557780e199c8', metadata={'source': 'https://supercell.com/en/parents/', 'title': \"Parent's Guide × Supercell\", 'description': '', 'language': 'en'}, page_content='device:Please send an email to\\xa0parents@supercell.com\\xa0or contact us directly through in-game support by going to Settings > Help & Support and then tap \"Contact Us\" in the upper right hand corner. In your message please state the name of the game the purchase was made in and add the receipt of the purchase. The transaction ID (looks similar to this - GPA.1234-1234-1234-12345) at the bottom of the document must be visible. Receipts for transactions have been emailed to you by Google after each'), Document(id='14eaee7e-7bec-436f-b07a-426e5e6605fa', metadata={'source': 'https://supercell.com/en/parents/', 'title': \"Parent's Guide × Supercell\", 'description': '', 'language': 'en'}, page_content='you decide to make purchases for your child and for this reason add your payment information to the device, remember to adjust password protection settings, or disable in-app purchases entirely afterwards to avoid unauthorised purchases.In-app purchase settings are different depending on what sort of device you are using. Find the instructions you need linked below:Instructions for Apple iOS devices (like iPhone or iPad)Instructions for Google Android devices (like Samsung Galaxy, OnePlus, HTC,')]\n"
     ]
    }
   ],
   "source": [
    "query = \"MY CHILD ACCIDENTALLY MADE AN IN-APP PURCHASE. CAN I GET A REFUND\"\n",
    "response = qa_chain({\"query\": query})\n",
    "\n",
    "\n",
    "print(\"Result\")\n",
    "print(\"-\"*20)\n",
    "print(response[\"result\"])\n",
    "\n",
    "print(\"Source\")\n",
    "print(\"-\"*20)\n",
    "print(response[\"source_documents\"])"
   ]
  }
 ],
 "metadata": {
  "kernelspec": {
   "display_name": ".venv",
   "language": "python",
   "name": "python3"
  },
  "language_info": {
   "codemirror_mode": {
    "name": "ipython",
    "version": 3
   },
   "file_extension": ".py",
   "mimetype": "text/x-python",
   "name": "python",
   "nbconvert_exporter": "python",
   "pygments_lexer": "ipython3",
   "version": "3.12.8"
  }
 },
 "nbformat": 4,
 "nbformat_minor": 2
}
