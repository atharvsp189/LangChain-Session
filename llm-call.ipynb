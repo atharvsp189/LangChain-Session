{
 "cells": [
  {
   "cell_type": "code",
   "execution_count": null,
   "metadata": {},
   "outputs": [],
   "source": [
    "# Load Credentials\n",
    "# secure way to load credentials\n",
    "import os\n",
    "from dotenv import load_dotenv\n",
    "load_dotenv()\n",
    "\n",
    "os.environ[\"GEMINI_API_KEY\"] = os.getenv(\"GEMINI_API_KEY\")\n",
    "os.environ[\"GROQ_API_KEY\"] = os.getenv(\"GROQ_API_KEY\")"
   ]
  },
  {
   "cell_type": "code",
   "execution_count": 48,
   "metadata": {},
   "outputs": [],
   "source": [
    "# setup LLM with groq\n",
    "from langchain_groq import ChatGroq\n",
    "\n",
    "llm = ChatGroq(\n",
    "    model=\"llama-3.3-70b-versatile\", \n",
    "    temperature=0,\n",
    "    max_tokens=None,\n",
    "    timeout=None,\n",
    "    max_retries=2,\n",
    ")"
   ]
  },
  {
   "cell_type": "code",
   "execution_count": null,
   "metadata": {},
   "outputs": [
    {
     "name": "stdout",
     "output_type": "stream",
     "text": [
      "The sky appears blue due to a phenomenon called **Rayleigh scattering**. \n",
      "\n",
      "Here's a breakdown:\n",
      "\n",
      "* **Sunlight:** Sunlight is actually made up of all the colors of the rainbow.\n",
      "* **Earth's Atmosphere:** Our atmosphere is composed of tiny particles like nitrogen and oxygen molecules.\n",
      "* **Scattering:** When sunlight enters the atmosphere, it collides with these particles. This causes the light to scatter in different directions.\n",
      "* **Blue Light's Advantage:** Blue light has a shorter wavelength than other colors in the visible spectrum. This means it gets scattered much more strongly by the atmospheric particles.\n",
      "\n",
      "**Think of it like this:** Imagine throwing a handful of marbles (sunlight) at a bunch of tiny bells (air molecules). The smaller marbles (blue light) will bounce off in all directions, while the larger marbles (red light) will mostly pass through.\n",
      "\n",
      "**Why not violet?**\n",
      "\n",
      "Violet light actually has an even shorter wavelength than blue light and scatters even more. However, our eyes are less sensitive to violet light, so we perceive the sky as blue.\n",
      "\n",
      "**Sunrise and Sunset:**\n",
      "\n",
      "During sunrise and sunset, the sunlight has to travel through more of the atmosphere to reach our eyes. This means even more blue light is scattered away, allowing the longer wavelengths like orange and red to dominate, creating those beautiful colors.\n",
      "\n",
      "\n",
      "Let me know if you have any other questions!\n",
      "\n"
     ]
    }
   ],
   "source": [
    "# invoking llm\n",
    "response = llm.invoke(\"Why the Sky is Blue?\")\n",
    "print(response.content)"
   ]
  },
  {
   "cell_type": "code",
   "execution_count": null,
   "metadata": {},
   "outputs": [],
   "source": [
    "# template -> template for the query just replace the required\n",
    "from langchain_core.prompts import PromptTemplate\n",
    "\n",
    "template = \"\"\"\n",
    "        You are a movie critic please help me decide what to watch.\n",
    "        recommend 5 movies from the studio {studio}\\n\\n\n",
    "        \n",
    "        give the output in a format for every movie in a list like {return_format}\n",
    "    \"\"\"\n",
    "    \n",
    "return_format = \"\"\"\n",
    "        Name: name of the film\n",
    "        Genre: Genre of the film\n",
    "        Plot: Plot of the film\n",
    "        Why to Watch: Reason to Watch the film\n",
    "\"\"\"\n",
    "\n",
    "prompt_template = PromptTemplate(\n",
    "    template = template, \n",
    "    input_variables=[\"studio\", \"return_format\"]\n",
    ")"
   ]
  },
  {
   "cell_type": "code",
   "execution_count": null,
   "metadata": {},
   "outputs": [],
   "source": [
    "# chain -> define how the flow of query will be \n",
    "chain = prompt_template | llm "
   ]
  },
  {
   "cell_type": "code",
   "execution_count": null,
   "metadata": {},
   "outputs": [
    {
     "name": "stdout",
     "output_type": "stream",
     "text": [
      "Here are 5 movie recommendations from Studio Ghibli:\n",
      "\n",
      "1. **Spirited Away** (2001) \n",
      "    * Director: Hayao Miyazaki\n",
      "    * Genre: Fantasy, Adventure\n",
      "    * Description: A young girl named Chihiro is transported to a magical world where she must work in a bathhouse for spirits to find her way home.\n",
      "    * Rating: 9.5/10\n",
      "\n",
      "2. **My Neighbor Totoro** (1988) \n",
      "    * Director: Hayao Miyazaki\n",
      "    * Genre: Fantasy, Family\n",
      "    * Description: Two sisters move to the countryside and befriend various mythical creatures, including the titular Totoro.\n",
      "    * Rating: 8.5/10\n",
      "\n",
      "3. **Princess Mononoke** (1997) \n",
      "    * Director: Hayao Miyazaki\n",
      "    * Genre: Fantasy, Adventure\n",
      "    * Description: In medieval Japan, a young prince becomes involved in a struggle between humans and the animal spirits of the forest.\n",
      "    * Rating: 9.0/10\n",
      "\n",
      "4. **Kiki's Delivery Service** (1989) \n",
      "    * Director: Hayao Miyazaki\n",
      "    * Genre: Fantasy, Adventure\n",
      "    * Description: A young witch named Kiki sets out on her own to find her place in the world and starts a delivery service in a new town.\n",
      "    * Rating: 8.0/10\n",
      "\n",
      "5. **Howl's Moving Castle** (2004) \n",
      "    * Director: Hayao Miyazaki\n",
      "    * Genre: Fantasy, Romance\n",
      "    * Description: A young girl named Sophie is turned into an old woman by a witch and finds refuge in a magical moving castle belonging to the wizard Howl.\n",
      "    * Rating: 8.5/10\n"
     ]
    }
   ],
   "source": [
    "# Getting the final response by invoking a chain\n",
    "response = chain.invoke({\"studio\": \"Ghibli\", \"return_format\": \"return_format\"})\n",
    "print(response.content)"
   ]
  },
  {
   "cell_type": "code",
   "execution_count": 51,
   "metadata": {},
   "outputs": [
    {
     "name": "stdout",
     "output_type": "stream",
     "text": [
      "Here are 5 movie recommendations from Pixar:\n",
      "\n",
      "1. **Inside Out (2015)** \n",
      "    * Genre: Animation, Adventure, Comedy\n",
      "    * Director: Pete Docter, Ronnie del Carmen\n",
      "    * Description: The movie takes you on a journey inside the mind of an 11-year-old girl, where five personified emotions try to navigate her through the challenges of growing up.\n",
      "\n",
      "2. **Up (2009)** \n",
      "    * Genre: Animation, Adventure, Comedy\n",
      "    * Director: Pete Docter, Bob Peterson\n",
      "    * Description: The film tells the story of an old man who sets out to fulfill his lifelong dream of exploring South America by tying thousands of balloons to his house and taking off into the sky.\n",
      "\n",
      "3. **Finding Nemo (2003)** \n",
      "    * Genre: Animation, Adventure, Comedy\n",
      "    * Director: Andrew Stanton, Lee Unkrich\n",
      "    * Description: The movie follows the story of a clownfish named Marlin, who embarks on an epic journey to rescue his son Nemo after he is captured by a diver and taken to a fish tank in a dentist's office.\n",
      "\n",
      "4. **The Incredibles (2004)** \n",
      "    * Genre: Animation, Action, Adventure\n",
      "    * Director: Brad Bird\n",
      "    * Description: The film is about a family with superpowers who are forced to hide their abilities and live a normal life, but are eventually called upon to save the world from a villainous plot.\n",
      "\n",
      "5. **Coco (2017)** \n",
      "    * Genre: Animation, Adventure, Family\n",
      "    * Director: Lee Unkrich, Adrian Molina\n",
      "    * Description: The movie follows the story of a young boy named Miguel, who dreams of becoming a musician like his idol, but finds himself transported to the Land of the Dead, where he must navigate the secrets of his family's past to return to the world of the living.\n"
     ]
    }
   ],
   "source": [
    "response = chain.invoke({\"studio\": \"Pixar\", \"return_format\": \"return_format\"})\n",
    "print(response.content)"
   ]
  },
  {
   "cell_type": "code",
   "execution_count": 52,
   "metadata": {},
   "outputs": [
    {
     "name": "stdout",
     "output_type": "stream",
     "text": [
      "As a movie critic, I'd be happy to help you decide what to watch from Salman Khan Films. Here are 5 movie recommendations from the studio:\n",
      "\n",
      "* **Bajrangi Bhaijaan (2015)**: \n",
      "  return_format = {\n",
      "    \"title\": \"Bajrangi Bhaijaan\",\n",
      "    \"release_year\": 2015,\n",
      "    \"genre\": \"Drama, Action\",\n",
      "    \"plot\": \"A man helps a mute Pakistani girl find her way back home\",\n",
      "    \"rating\": 8/10\n",
      "  }\n",
      "\n",
      "* **Sultan (2016)**: \n",
      "  return_format = {\n",
      "    \"title\": \"Sultan\",\n",
      "    \"release_year\": 2016,\n",
      "    \"genre\": \"Drama, Sports\",\n",
      "    \"plot\": \"A wrestler's journey to redemption and love\",\n",
      "    \"rating\": 7.5/10\n",
      "  }\n",
      "\n",
      "* **Tubelight (2017)**: \n",
      "  return_format = {\n",
      "    \"title\": \"Tubelight\",\n",
      "    \"release_year\": 2017,\n",
      "    \"genre\": \"Drama, War\",\n",
      "    \"plot\": \"A man's search for his brother during the Indo-China war\",\n",
      "    \"rating\": 6.5/10\n",
      "  }\n",
      "\n",
      "* **Loveyatri (2018)**: \n",
      "  return_format = {\n",
      "    \"title\": \"Loveyatri\",\n",
      "    \"release_year\": 2018,\n",
      "    \"genre\": \"Romance, Drama\",\n",
      "    \"plot\": \"A young man falls in love with a girl from a different background\",\n",
      "    \"rating\": 6/10\n",
      "  }\n",
      "\n",
      "* **Antim: The Final Truth (2021)**: \n",
      "  return_format = {\n",
      "    \"title\": \"Antim: The Final Truth\",\n",
      "    \"release_year\": 2021,\n",
      "    \"genre\": \"Action, Drama\",\n",
      "    \"plot\": \"A cop's fight against a ruthless gangster\",\n",
      "    \"rating\": 7/10\n",
      "  }\n",
      "\n",
      "I hope you find something that interests you in this list. Enjoy your movie night!\n"
     ]
    }
   ],
   "source": [
    "response = chain.invoke({\"studio\": \"Salman Khan Films\", \"return_format\": \"return_format\"})\n",
    "print(response.content)"
   ]
  }
 ],
 "metadata": {
  "kernelspec": {
   "display_name": ".venv",
   "language": "python",
   "name": "python3"
  },
  "language_info": {
   "codemirror_mode": {
    "name": "ipython",
    "version": 3
   },
   "file_extension": ".py",
   "mimetype": "text/x-python",
   "name": "python",
   "nbconvert_exporter": "python",
   "pygments_lexer": "ipython3",
   "version": "3.12.8"
  }
 },
 "nbformat": 4,
 "nbformat_minor": 2
}
